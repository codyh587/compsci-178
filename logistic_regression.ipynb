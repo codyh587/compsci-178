{
 "cells": [
  {
   "cell_type": "code",
   "execution_count": 1,
   "id": "2feb7691",
   "metadata": {},
   "outputs": [],
   "source": [
    "import matplotlib.pyplot as plt\n",
    "import numpy as np\n",
    "\n",
    "from datasets import load_dataset\n",
    "from sklearn.feature_extraction.text import TfidfVectorizer\n",
    "from sklearn.model_selection import train_test_split, GridSearchCV, PredefinedSplit\n",
    "from sklearn.linear_model import LogisticRegression\n",
    "from sklearn.metrics import ConfusionMatrixDisplay\n",
    "from scipy import sparse\n",
    "\n",
    "seed = 1234\n",
    "np.random.seed(seed)"
   ]
  },
  {
   "cell_type": "code",
   "execution_count": 2,
   "id": "3d0598ed",
   "metadata": {},
   "outputs": [],
   "source": [
    "def load_imdb_dataset(get_vectorizer=False):\n",
    "    dataset = load_dataset(\"imdb\").shuffle(seed=seed)\n",
    "    vectorizer = TfidfVectorizer().fit(dataset[\"train\"][\"text\"])\n",
    "\n",
    "    train_texts = vectorizer.transform(dataset[\"train\"][\"text\"])\n",
    "    train_labels = np.array(dataset[\"train\"][\"label\"])\n",
    "\n",
    "    test_texts = vectorizer.transform(dataset[\"test\"][\"text\"])\n",
    "    test_labels = np.array(dataset[\"test\"][\"label\"])\n",
    "\n",
    "    del dataset\n",
    "    if not get_vectorizer:\n",
    "        del vectorizer\n",
    "\n",
    "    train_texts, valid_texts, train_labels, valid_labels = train_test_split(\n",
    "        train_texts,\n",
    "        train_labels,\n",
    "        test_size=0.25,\n",
    "        random_state=seed,\n",
    "        stratify=train_labels\n",
    "    )\n",
    "\n",
    "    return (\n",
    "        train_texts,\n",
    "        train_labels,\n",
    "        valid_texts,\n",
    "        valid_labels,\n",
    "        test_texts,\n",
    "        test_labels\n",
    "    ) if not get_vectorizer else (\n",
    "        train_texts,\n",
    "        train_labels,\n",
    "        valid_texts,\n",
    "        valid_labels,\n",
    "        test_texts,\n",
    "        test_labels,\n",
    "        vectorizer\n",
    "    )"
   ]
  },
  {
   "cell_type": "code",
   "execution_count": 3,
   "id": "4cc1e0b4",
   "metadata": {},
   "outputs": [],
   "source": [
    "train_X, train_y, valid_X, valid_y, test_X, test_y = load_imdb_dataset()"
   ]
  },
  {
   "cell_type": "code",
   "execution_count": 4,
   "id": "0f42527a",
   "metadata": {},
   "outputs": [],
   "source": [
    "# Define parameter grid for grid search\n",
    "params = [\n",
    "    {\n",
    "        'solver': ['lbfgs'],\n",
    "        'penalty': ['l2', 'none'], \n",
    "        'C': [0.01, 0.1, 1.0, 10.0, 100.0],\n",
    "        'max_iter': [100, 200, 500]\n",
    "    },\n",
    "\n",
    "    {\n",
    "        'solver': ['liblinear'],\n",
    "        'penalty': ['l1', 'l2'], \n",
    "        'C': [0.01, 0.1, 1.0, 10.0, 100.0],\n",
    "        'max_iter': [100, 200, 500] \n",
    "    },\n",
    "    {\n",
    "        'solver': ['newton-cg'],\n",
    "        'penalty': ['l2', 'none'], \n",
    "        'C': [0.01, 0.1, 1.0, 10.0, 100.0],\n",
    "        'max_iter': [100, 200, 500]\n",
    "    },\n",
    "    {\n",
    "        'solver': ['sag'],\n",
    "        'penalty': ['l2', 'none'], \n",
    "        'C': [0.01, 0.1, 1.0, 10.0, 100.0],\n",
    "        'max_iter': [100, 200, 500]\n",
    "    },\n",
    "    {\n",
    "        'solver': ['saga'],\n",
    "        'penalty': ['l1', 'l2', 'none'], \n",
    "        'C': [0.01, 0.1, 1.0, 10.0, 100.0],\n",
    "        'max_iter': [100, 200, 500]\n",
    "    },\n",
    "    {\n",
    "        'solver': ['saga'],\n",
    "        'penalty': ['elasticnet'],\n",
    "        'l1_ratio': [0.25, 0.5, 0.75], \n",
    "        'C': [0.01, 0.1, 1.0, 10.0, 100.0],\n",
    "        'max_iter': [100, 200, 500]\n",
    "    }\n",
    "]"
   ]
  },
  {
   "cell_type": "code",
   "execution_count": null,
   "id": "b2804f59",
   "metadata": {},
   "outputs": [],
   "source": [
    "# Perform a grid search over the specified hyperparameters\n",
    "# Warning: Grid search is exhaustive, takes a considerable amount of time\n",
    "\n",
    "X_combined = sparse.vstack([train_X, valid_X])\n",
    "y_combined = np.concatenate([train_y, valid_y])\n",
    "\n",
    "test_fold = np.zeros(train_y.shape[0] + valid_y.shape[0])\n",
    "test_fold[:train_y.shape[0]] = -1\n",
    "\n",
    "lr = LogisticRegression(random_state=seed)\n",
    "clf = GridSearchCV(lr, params, cv=PredefinedSplit(test_fold), n_jobs=-1, verbose=1)\n",
    "clf.fit(X_combined, y_combined)"
   ]
  },
  {
   "cell_type": "code",
   "execution_count": null,
   "id": "359bbf9e",
   "metadata": {},
   "outputs": [
    {
     "name": "stdout",
     "output_type": "stream",
     "text": [
      "{'C': 10.0, 'class_weight': None, 'dual': False, 'fit_intercept': True, 'intercept_scaling': 1, 'l1_ratio': None, 'max_iter': 100, 'multi_class': 'deprecated', 'n_jobs': None, 'penalty': 'l2', 'random_state': 1234, 'solver': 'lbfgs', 'tol': 0.0001, 'verbose': 0, 'warm_start': False}\n",
      "Grid Search Logistic Regression Validation Error: 11.07%\n",
      "Grid Search Logistic Regression Test Error: 11.91%\n"
     ]
    }
   ],
   "source": [
    "# Evaluate the best estimator as determined through the grid search\n",
    "print(clf.best_estimator_.get_params())\n",
    "print(f'Grid Search Logistic Regression Validation Error: {(1 - clf.best_score_) * 100:.2f}%')\n",
    "print(f'Grid Search Logistic Regression Test Error: {(1 - clf.best_estimator_.score(test_X, test_y)) * 100:.2f}%')"
   ]
  },
  {
   "cell_type": "code",
   "execution_count": null,
   "id": "85905956",
   "metadata": {},
   "outputs": [
    {
     "data": {
      "image/png": "[encoded data removed]",
      "text/plain": [
       "<Figure size 640x480 with 2 Axes>"
      ]
     },
     "metadata": {},
     "output_type": "display_data"
    }
   ],
   "source": [
    "# Visualize a confusion matrix for the best logistic regression model we found\n",
    "\n",
    "# best_lr = clf.best_estimator_.get_params()\n",
    "best_lr = LogisticRegression(penalty = 'l2', C=10.0, max_iter=100, random_state=seed, solver='lbfgs').fit(train_X, train_y)\n",
    "cf_display = ConfusionMatrixDisplay.from_estimator(best_lr, test_X, test_y)"
   ]
  }
 ],
 "metadata": {
  "kernelspec": {
   "display_name": "cs178",
   "language": "python",
   "name": "python3"
  },
  "language_info": {
   "codemirror_mode": {
    "name": "ipython",
    "version": 3
   },
   "file_extension": ".py",
   "mimetype": "text/x-python",
   "name": "python",
   "nbconvert_exporter": "python",
   "pygments_lexer": "ipython3",
   "version": "3.12.9"
  }
 },
 "nbformat": 4,
 "nbformat_minor": 5
}
